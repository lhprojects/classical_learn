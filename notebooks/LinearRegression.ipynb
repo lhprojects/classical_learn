{
 "cells": [
  {
   "cell_type": "markdown",
   "metadata": {
    "toc": true
   },
   "source": [
    "<h1>Table of Contents<span class=\"tocSkip\"></span></h1>\n",
    "<div class=\"toc\"><ul class=\"toc-item\"><li><span><a href=\"#导入\" data-toc-modified-id=\"导入-1\"><span class=\"toc-item-num\">1&nbsp;&nbsp;</span>导入</a></span></li><li><span><a href=\"#线性回归\" data-toc-modified-id=\"线性回归-2\"><span class=\"toc-item-num\">2&nbsp;&nbsp;</span>线性回归</a></span><ul class=\"toc-item\"><li><span><a href=\"#符号约定\" data-toc-modified-id=\"符号约定-2.1\"><span class=\"toc-item-num\">2.1&nbsp;&nbsp;</span>符号约定</a></span></li><li><span><a href=\"#SVD\" data-toc-modified-id=\"SVD-2.2\"><span class=\"toc-item-num\">2.2&nbsp;&nbsp;</span>SVD</a></span></li><li><span><a href=\"#线性回归采用SVD方法\" data-toc-modified-id=\"线性回归采用SVD方法-2.3\"><span class=\"toc-item-num\">2.3&nbsp;&nbsp;</span>线性回归采用SVD方法</a></span></li></ul></li><li><span><a href=\"#Ridge-Regression\" data-toc-modified-id=\"Ridge-Regression-3\"><span class=\"toc-item-num\">3&nbsp;&nbsp;</span>Ridge Regression</a></span><ul class=\"toc-item\"><li><span><a href=\"#Loss\" data-toc-modified-id=\"Loss-3.1\"><span class=\"toc-item-num\">3.1&nbsp;&nbsp;</span>Loss</a></span></li><li><span><a href=\"#Kernel方法\" data-toc-modified-id=\"Kernel方法-3.2\"><span class=\"toc-item-num\">3.2&nbsp;&nbsp;</span>Kernel方法</a></span></li><li><span><a href=\"#统一求解\" data-toc-modified-id=\"统一求解-3.3\"><span class=\"toc-item-num\">3.3&nbsp;&nbsp;</span>统一求解</a></span></li><li><span><a href=\"#求解\" data-toc-modified-id=\"求解-3.4\"><span class=\"toc-item-num\">3.4&nbsp;&nbsp;</span>求解</a></span><ul class=\"toc-item\"><li><span><a href=\"#消除$b$\" data-toc-modified-id=\"消除$b$-3.4.1\"><span class=\"toc-item-num\">3.4.1&nbsp;&nbsp;</span>消除$b$</a></span></li><li><span><a href=\"#求解$w$\" data-toc-modified-id=\"求解$w$-3.4.2\"><span class=\"toc-item-num\">3.4.2&nbsp;&nbsp;</span>求解$w$</a></span><ul class=\"toc-item\"><li><span><a href=\"#无参数惩罚的方法\" data-toc-modified-id=\"无参数惩罚的方法-3.4.2.1\"><span class=\"toc-item-num\">3.4.2.1&nbsp;&nbsp;</span>无参数惩罚的方法</a></span></li><li><span><a href=\"#对于不使用kernel的ridge方法：\" data-toc-modified-id=\"对于不使用kernel的ridge方法：-3.4.2.2\"><span class=\"toc-item-num\">3.4.2.2&nbsp;&nbsp;</span>对于不使用kernel的ridge方法：</a></span></li><li><span><a href=\"#对于使用kernel的ridge方法：\" data-toc-modified-id=\"对于使用kernel的ridge方法：-3.4.2.3\"><span class=\"toc-item-num\">3.4.2.3&nbsp;&nbsp;</span>对于使用kernel的ridge方法：</a></span></li></ul></li></ul></li></ul></li><li><span><a href=\"#Lasso\" data-toc-modified-id=\"Lasso-4\"><span class=\"toc-item-num\">4&nbsp;&nbsp;</span>Lasso</a></span><ul class=\"toc-item\"><li><span><a href=\"#套索回归采用坐标下降（coordinate-descent）方法\" data-toc-modified-id=\"套索回归采用坐标下降（coordinate-descent）方法-4.1\"><span class=\"toc-item-num\">4.1&nbsp;&nbsp;</span>套索回归采用坐标下降（coordinate descent）方法</a></span></li></ul></li><li><span><a href=\"#Check-with-sklearn\" data-toc-modified-id=\"Check-with-sklearn-5\"><span class=\"toc-item-num\">5&nbsp;&nbsp;</span>Check with sklearn</a></span></li><li><span><a href=\"#Benchmark\" data-toc-modified-id=\"Benchmark-6\"><span class=\"toc-item-num\">6&nbsp;&nbsp;</span>Benchmark</a></span></li></ul></div>"
   ]
  },
  {
   "cell_type": "markdown",
   "metadata": {},
   "source": [
    "# 导入"
   ]
  },
  {
   "cell_type": "code",
   "execution_count": 1,
   "metadata": {},
   "outputs": [],
   "source": [
    "import os\n",
    "os.sys.path.append(\"..\")\n",
    "\n",
    "from klslearn.models import LinearRegressor\n",
    "from klslearn.models import Ridge\n",
    "from klslearn.models import Lasso\n",
    "from klslearn.datasets import generate_scatter_labeled as generate\n",
    "from klslearn.datasets import plot_scatter_2D_labeled as plot2d\n",
    "\n",
    "import numpy as np\n",
    "import matplotlib.pyplot as plt\n",
    "%matplotlib inline"
   ]
  },
  {
   "cell_type": "code",
   "execution_count": 2,
   "metadata": {},
   "outputs": [],
   "source": [
    "def generate(M=1, N=100, n= 1):\n",
    "    np.random.seed(0)\n",
    "    X = np.random.rand(N, M)\n",
    "    w = np.arange(1,M+1)\n",
    "    print(n)\n",
    "    y = np.sum((w.reshape(1,M)*X) ** n, axis=1) + 0.1*np.random.randn(N)\n",
    "    return X, y, np.append(w,0)\n",
    "\n",
    "def test_learner(lr, N=100, n = 1):\n",
    "    \n",
    "    X,y,w = generate(1, N, n = n)\n",
    "    lr.fit(X, y)\n",
    "    X_plt = np.linspace(0, 1, 50)\n",
    "    yhat_plt= lr.predict(X_plt[:,np.newaxis])\n",
    "    \n",
    "    fig=plt.figure(figsize=(4,4))\n",
    "    plt.scatter(X, y, color=\"blue\")\n",
    "    plt.plot(X_plt, yhat_plt, label=\"fit\", color=\"red\")\n",
    "    plt.plot(X_plt, (X_plt[:]**n) *w[0]+w[1], label=\"model\", color=\"blue\")\n",
    "    plt.xlabel(\"$x$\", fontsize=\"large\")\n",
    "    plt.ylabel(\"$y$\", fontsize=\"large\")\n",
    "    plt.legend(frameon=False, fontsize=\"large\")\n",
    "    plt.show()\n",
    "    \n",
    "def test_shrinkage(cls, max_alpha = 1, n = 1):\n",
    "    X,y,w=generate(1,100, n=n)\n",
    "    alphas=[]\n",
    "    cs=[]\n",
    "    bs=[]\n",
    "    alphas = max_alpha*np.power(10, np.linspace(-3, 0))\n",
    "    for alpha in alphas:\n",
    "        lr=cls(alpha)\n",
    "        lr.fit(X, y)\n",
    "        cs.append(lr.coef_)\n",
    "        bs.append(lr.intercept_)\n",
    "\n",
    "    cs=np.array(cs)\n",
    "\n",
    "    plt.figure(figsize=(4,4))\n",
    "    plt.plot(alphas, cs[:,0], label=\"$c_1$\")\n",
    "    plt.plot(alphas, bs, label=\"b\")\n",
    "    plt.yscale(\"log\")\n",
    "    plt.xscale(\"log\")\n",
    "    plt.xlabel(r\"$\\alpha$\", fontsize=\"large\")\n",
    "    plt.legend(frameon=False, fontsize=\"large\")\n",
    "    plt.show()\n"
   ]
  },
  {
   "cell_type": "markdown",
   "metadata": {},
   "source": [
    "# 线性回归"
   ]
  },
  {
   "cell_type": "markdown",
   "metadata": {},
   "source": [
    "## 符号约定\n",
    "\n",
    "全部样本的特征使用$X$表示，\n",
    "\n",
    "\n",
    "* $X_{ij}$表示样本$i$的特征$j$的数值。 $\\mathbf{X}$为$m\\times d$大小的矩阵，其中$m$为样本的数量，$d$为特征的数量。\n",
    "* $\\mathbf{y}$为列向量：$(...,y_i,...)^T$。\n",
    "* $\\mathbf{x}_i$为列向量：$(...,X_{ij},...)^T$。\n",
    "* $\\mathbf{w}$为列向量：$(...,w_j,...)^T$。\n"
   ]
  },
  {
   "cell_type": "markdown",
   "metadata": {},
   "source": [
    "## SVD\n",
    "对于一个矩阵$A\\in R^{m\\times n}$，我们将他分解为\n",
    "$A = U \\Sigma V^T$\n",
    "其中$U\\in R^{m\\times m}$，$V\\in R^{n\\times n}$，$\\Sigma\\in R^{m\\times n}$，且$U$和$V$为正交矩阵，$\\Sigma$为\"对角\"矩阵。\n",
    "其中\n",
    "$$\n",
    "\\Sigma={\\rm diag}_{m\\times n}(\\sigma_1,\\sigma_2,...,\\sigma_r,0,...),\\quad r \\le \\min (m,n)\n",
    "$$\n",
    "\n",
    "$$\n",
    "A_{ij} = \\sum_{k\\le r} U_{ik}\\Sigma_k V_{ik}\n",
    "$$\n"
   ]
  },
  {
   "cell_type": "markdown",
   "metadata": {},
   "source": [
    "# Ridge Regression"
   ]
  },
  {
   "cell_type": "markdown",
   "metadata": {},
   "source": [
    "## Loss\n",
    "Ridge的loss函数可以写作：\n",
    "$$\n",
    "L = \\sum_i (y_i - (\\mathbf{x}_i \\cdot \\mathbf{w} +b) )^2 + \\lambda \\mathbf{w} \\cdot \\mathbf{w}\n",
    "$$\n",
    "其中$\\lambda$ 也会写作 $\\alpha$。\n",
    "显式下表写法：\n",
    "$$\n",
    "L = \\sum_i^N \\left(y_i - \\left(\\sum_j X_{ij} w_j + b\\right) \\right)^2 +  \\lambda \\sum_i^M w_j^2\n",
    "$$\n",
    "矩阵写法：\n",
    "$$\n",
    "L =  (\\mathbf{y} - \\mathbf{X}\\mathbf{w})^T (\\mathbf{y} - \\mathbf{X}\\mathbf{w})\n",
    "+ \\lambda \\mathbf{w}^T  \\mathbf{w}\n",
    "$$"
   ]
  },
  {
   "cell_type": "markdown",
   "metadata": {},
   "source": [
    "## Kernel方法\n",
    "\n",
    "如果使用Kernel,设\n",
    "$$\n",
    "\\mathbf{\\phi}_i = \\phi(\\mathbf{x}_i)\n",
    "$$\n",
    "则现在拟合函数为\n",
    "$$\n",
    "\\hat{y} = \\mathbf{w} \\cdot \\mathbf{\\phi}(x) + b\n",
    "$$\n",
    "\n",
    "可以证明最优化的$\\mathbf{w}$可以表示为$\\phi_i$的线性组合，设$\\mathbf{\\phi}_i$的权重为$\\alpha_i$，则\n",
    "\n",
    "$$\n",
    "\\mathbf{w} = \\sum_i^N \\alpha_i \\mathbf{\\phi}_i\n",
    "$$\n",
    "\n",
    "则原来的Loss可以写为\n",
    "$$\n",
    "L = \\sum_i (y_i - \\phi_i \\cdot \\sum_i^N \\alpha_j \\mathbf{\\phi}_j)^2 + \\sum_i^N \\alpha_i \\mathbf{\\phi}_i   \\cdot \\sum_j^N \\alpha_j \\mathbf{\\phi}_j\n",
    "$$\n",
    "\n",
    "\n",
    "定义核函数$K$ \n",
    "$$\n",
    "K(\\mathbf{x}_i, \\mathbf{x}_j) = K_{ij} = \\phi_i \\cdot \\phi_j\n",
    "$$\n",
    "\n",
    "则\n",
    "$$\n",
    "L = \\sum_i (y_i - (\\sum_i^N K_{ij} \\alpha_j + b))^2 + \\sum_i^N \\sum_j^N K_{ij} \\alpha_i\\alpha_j\n",
    "$$\n",
    "\n",
    "Loss完全可以写为$\\alpha$和$b$的函数。对于预测而言，结果也只依赖与$\\alpha$, $b$\n",
    "$$\n",
    "\\hat{y}(\\mathbf{x}) = \\sum_j K(\\mathbf{x}_j, \\mathbf{x}) \\alpha_j + b\n",
    "$$"
   ]
  },
  {
   "cell_type": "markdown",
   "metadata": {},
   "source": [
    "## 统一求解"
   ]
  },
  {
   "cell_type": "markdown",
   "metadata": {},
   "source": [
    "对于使用kernel和不使用kernel两种情况，而言loss函数可以统一写为\n",
    "\n",
    "$$\n",
    "L =  (\\mathbf{y} - (\\mathbf{X}\\mathbf{w} + b))^T (\\mathbf{y} - (\\mathbf{X}\\mathbf{w} + b))\n",
    "+ \\lambda \\mathbf{w}^T \\Lambda \\mathbf{w}\n",
    "$$\n",
    "\n",
    "其中，对于不适用kernel的情况\n",
    "$$\n",
    "X = original X_{(N\\times M)}\n",
    "$$\n",
    "$$\n",
    "\\Lambda = I_{(M\\times M)}\n",
    "$$\n",
    "对于使用kernel的情况\n",
    "\n",
    "$$\n",
    "X_{ij} = K(\\mathbf{x}_i, \\mathbf{x}_j)_{(N\\times N)}\n",
    "$$\n",
    "$$\n",
    "\\Lambda_{ij} = K(\\mathbf{x}_i, \\mathbf{x}_j)_{(N\\times N)}\n",
    "$$\n"
   ]
  },
  {
   "cell_type": "markdown",
   "metadata": {},
   "source": [
    "## 求解\n",
    "### 消除$b$\n",
    "\n",
    "我们首先求解$b$, loss函数对$b$求导，并且令倒数为0，便可以得到\n",
    "对$b$求导数为\n",
    "$$\n",
    "0 = -2\\sum_i (y_i - (X \\mathbf{w})_i + b)\n",
    "$$\n",
    "全部数据点的平均值为$\\bar{X}$和$\\bar{y}$，则\n",
    "$$\n",
    "b = \\bar{y} - \\bar{X}\\mathbf{w}\n",
    "$$\n",
    "带入loss函数则\n",
    "$$\n",
    "L =  (\\mathbf{y} -\\bar{\\mathbf{y}} - (X - \\bar{X})\\mathbf{w} )^T (\\mathbf{y} - \\bar{\\mathbf{y}} - (X-\\bar{X})\\mathbf{w})\n",
    "+ \\lambda \\mathbf{w}^T \\Lambda \\mathbf{w}\n",
    "$$\n",
    "设\n",
    "$$\n",
    "X^\\prime = X - \\bar{X}\n",
    "$$\n",
    "$$\n",
    "y' = y - \\bar{y}\n",
    "$$\n",
    "\n",
    "Loss函数使用$X'$和$y'$表示为\n",
    "$$\n",
    "L =  (\\mathbf{y}' - X'\\mathbf{w} )^T (\\mathbf{y}' - X' \\mathbf{w})\n",
    "+ \\lambda \\mathbf{w}^T \\Lambda \\mathbf{w}\n",
    "$$\n",
    "\n",
    "```python\n",
    "Xmeans = X.mean(axis = 0)\n",
    "ymeans = y.mean(axis = 0)\n",
    "Xp = X - Xmeans\n",
    "yp = y - ymeans\n",
    "```"
   ]
  },
  {
   "cell_type": "markdown",
   "metadata": {},
   "source": [
    "### 求解$w$\n",
    "\n",
    "loss函数对$w$求导，并且令倒数为0，便可以得到\n",
    "$$\n",
    "0 = \\partial_{w_j} L = \\sum_i 2 (y_i - X'_{ij} w_j) (-X'_{ij}) + 2\\lambda\\Lambda w\n",
    "$$\n",
    "经过化简后得到\n",
    "$$\n",
    "(X'^T X' + \\lambda\\Lambda) \\mathbf{w} =  X'^T y\n",
    "$$\n",
    "\n",
    "设$X$的SVD分解为$X' = U\\Sigma V^T$，则上公式可以化简为\n",
    "$$\n",
    "(\\lambda \\Lambda+ V \\Sigma^T \\Sigma V^T)\\mathbf{w} = V \\Sigma^T U^T \\mathbf{y}\n",
    "$$\n",
    "\n",
    "$\\Sigma^T \\Sigma$为$M \\times M$的方型矩阵，$\\Sigma^T \\Sigma = {\\rm diag}(\\sigma_1^2, ..., \\sigma_r^2, 0, ...)$，\n",
    "$U$和$V$为正交矩阵。"
   ]
  },
  {
   "cell_type": "markdown",
   "metadata": {},
   "source": [
    "#### 无参数惩罚的方法\n",
    "\n",
    "$$\n",
    "(V \\Sigma^T \\Sigma V^T)\\mathbf{w} = V \\Sigma^T U^T \\mathbf{y}\n",
    "$$\n",
    "\n",
    "$V$为正交矩阵一定可逆且逆为$V^T$，于是\n",
    "$$\n",
    "\\Sigma^T \\Sigma V^T\\mathbf{w} = \\Sigma^T U^T \\mathbf{y}\n",
    "$$\n",
    "$\\Sigma$不一定可逆，因为$\\Sigma$可能有元素全部为0的行。如果$\\Sigma$不包含元素全部为0的行，则\n",
    "$$\n",
    "\\mathbf{w} = V (\\Sigma^T \\Sigma)^{-1} \\Sigma^T U^T \\mathbf{y}\n",
    "$$\n",
    "\n",
    "\n",
    "如果$\\Sigma$包含全部为0的行，对于$\\Sigma$全部为0的行，$V^T \\mathbf{w}$取多少，方程两边都为0，方程自然平衡，于是方程有无穷多个解。\n",
    "这是因为此时$X'$的秩($r$)小于$M$，方程$\\mathbf{y}' = X\\mathbf{w}' + b$有无穷解。此时我们为了得到确定的$\\mathbf{w}$。我们求使得$L$最小的$\\mathbf{w}$中，使得$|\\bf{w}|^2$最小的。\n",
    "由于\n",
    "$$\n",
    "|\\mathbf{w}|^2 =  |V^T \\mathbf{w}|^2 \n",
    "$$\n",
    "对于$\\Sigma$全为0的行，应当是相应行的$V^T \\mathbf{w}$设为0。\n",
    "\n",
    "\n",
    "设$\\Sigma_r = {\\rm diag}(\\sigma_1, ..., \\sigma_{r-k},0,...,0)$，其中$r=\\text{min}(M,N)$，其中$k$个对角元为0。$U^T_{r\\times N}$表示$U$的前$r$行。$V_{M \\times r}$表示$U$的前$r$列。\n",
    "于是\n",
    "$$\n",
    "\\Sigma_r^T \\Sigma_r (V_{M\\times r})^T\\mathbf{w} = \\Sigma^T_r U^T_{r\\times M} \\mathbf{y}\n",
    "$$\n",
    "最后有\n",
    "$$\n",
    " \\mathbf{w} = V_{n \\times r} \\Sigma_r^{-1} U^T_{r\\times m} \\mathbf{y}\n",
    "$$\n",
    "\n",
    "\n",
    "$\\Sigma_r^{-1} = {\\rm diag}(1/\\sigma_1, ..., 1/\\sigma_{r-k},0,...,0)$。\n",
    "或者可以表示为\n",
    "$$\n",
    " \\mathbf{w} = \\lim_{\\lambda\\rightarrow 0} V_{n \\times r} (\\Sigma_r^T \\Sigma_r + \\lambda I)^{-1} \\Sigma_r^T U^T_{r\\times m} \\mathbf{y}\n",
    "$$\n",
    "\n"
   ]
  },
  {
   "cell_type": "markdown",
   "metadata": {},
   "source": [
    "#### 对于不使用kernel的ridge方法：\n",
    "\n",
    "由于 $(\\lambda I + \\Sigma^T \\Sigma)$可逆\n",
    "$$\n",
    "\\mathbf{w} = V (\\lambda I + \\Sigma^T \\Sigma)^{-1}\\Sigma^T U^T \\mathbf{y}\n",
    "$$\n",
    "\n",
    "实际上我们并不需要完整的$U$和$V$便能得到等价的结果\n",
    "$$\n",
    "\\mathbf{w} = V_{M\\times r}(\\lambda I + \\Sigma^T \\Sigma)^{-1}_{r\\times r}\\Sigma^T_{r\\times r} U^T_{r\\times N} \\mathbf{y}\n",
    "$$\n",
    "或者更显式的表示为\n",
    "$$\n",
    "\\mathbf{w} = V_{M\\times r} \\left(\\left(\\frac{\\sigma_i} {\\sigma_i^2 + \\lambda}\\right)_{(r)} * \\left( U^T_{r\\times N} \\mathbf{y} \\right)\\right)\n",
    "$$\n",
    "\n",
    "$*$表示左右向量对应元素相乘。\n",
    "\n",
    "上式明显的显示出$X^T$的奇异值是如何和$X^T X$的奇异值**对齐**，然后奇异值$\\sigma_i$较小的分量如何被压制的。尽管svd技巧使得程序更慢，但是数值更稳定。\n",
    "\n",
    "```python\n",
    "U,D,VT = np.linalg.svd(Xp, full_matrices=False)\n",
    "# U[N,r]\n",
    "# D[r,r]\n",
    "# VT[r,M]\n",
    "invD = D/(np.square(D) + lamb) \n",
    "w = VT.T.dot((invD*U.T.dot(yp)))\n",
    "b =  ymeans - w.dot(Xmeans)\n",
    "```"
   ]
  },
  {
   "cell_type": "markdown",
   "metadata": {},
   "source": [
    "#### 对于使用kernel的ridge方法：\n",
    "对于使用kernel的情况，将$\\Lambda = X$带入再化简，便有\n",
    "$$\n",
    "(X + \\lambda) \\mathbf{w} = y\n",
    "$$\n",
    "$w$从上式直接求解得到。\n",
    "使用kernel后是无法使用svd技巧的，$\\lambda$项可以减少过拟合更是令数值更稳定。但是如果$\\lambda$过小的话，就会面临数值的问题。`numpy.linalg.lstsq`内部使用SVD来进行矩阵求逆，但是此时已经晚了，使用`lstsq`并不能缓解数值不稳定的情况。"
   ]
  },
  {
   "cell_type": "code",
   "execution_count": 3,
   "metadata": {},
   "outputs": [
    {
     "name": "stdout",
     "output_type": "stream",
     "text": [
      "1\n"
     ]
    },
    {
     "data": {
      "image/png": "[encoded data removed]",
      "text/plain": [
       "<Figure size 288x288 with 1 Axes>"
      ]
     },
     "metadata": {
      "needs_background": "light"
     },
     "output_type": "display_data"
    },
    {
     "name": "stdout",
     "output_type": "stream",
     "text": [
      "1\n"
     ]
    },
    {
     "data": {
      "image/png": "[encoded data removed]",
      "text/plain": [
       "<Figure size 288x288 with 1 Axes>"
      ]
     },
     "metadata": {
      "needs_background": "light"
     },
     "output_type": "display_data"
    }
   ],
   "source": [
    "test_learner(LinearRegressor(), N=1)\n",
    "test_learner(LinearRegressor(), N=100)"
   ]
  },
  {
   "cell_type": "code",
   "execution_count": 4,
   "metadata": {
    "jupyter": {
     "source_hidden": true
    },
    "scrolled": false
   },
   "outputs": [
    {
     "name": "stdout",
     "output_type": "stream",
     "text": [
      "1\n"
     ]
    },
    {
     "data": {
      "image/png": "[encoded data removed]",
      "text/plain": [
       "<Figure size 288x288 with 1 Axes>"
      ]
     },
     "metadata": {
      "needs_background": "light"
     },
     "output_type": "display_data"
    },
    {
     "name": "stdout",
     "output_type": "stream",
     "text": [
      "1\n"
     ]
    },
    {
     "data": {
      "image/png": "[encoded data removed]",
      "text/plain": [
       "<Figure size 288x288 with 1 Axes>"
      ]
     },
     "metadata": {
      "needs_background": "light"
     },
     "output_type": "display_data"
    },
    {
     "name": "stdout",
     "output_type": "stream",
     "text": [
      "1\n"
     ]
    },
    {
     "data": {
      "image/png": "[encoded data removed]",
      "text/plain": [
       "<Figure size 288x288 with 1 Axes>"
      ]
     },
     "metadata": {
      "needs_background": "light"
     },
     "output_type": "display_data"
    }
   ],
   "source": [
    "test_learner(Ridge(alpha=0.01), N=1)\n",
    "test_learner(Ridge())\n",
    "test_shrinkage(Ridge, max_alpha=1000)"
   ]
  },
  {
   "cell_type": "code",
   "execution_count": 5,
   "metadata": {},
   "outputs": [
    {
     "name": "stdout",
     "output_type": "stream",
     "text": [
      "2\n"
     ]
    },
    {
     "data": {
      "image/png": "[encoded data removed]",
      "text/plain": [
       "<Figure size 288x288 with 1 Axes>"
      ]
     },
     "metadata": {
      "needs_background": "light"
     },
     "output_type": "display_data"
    },
    {
     "name": "stdout",
     "output_type": "stream",
     "text": [
      "2\n"
     ]
    },
    {
     "data": {
      "image/png": "[encoded data removed]",
      "text/plain": [
       "<Figure size 288x288 with 1 Axes>"
      ]
     },
     "metadata": {
      "needs_background": "light"
     },
     "output_type": "display_data"
    },
    {
     "name": "stdout",
     "output_type": "stream",
     "text": [
      "1\n"
     ]
    },
    {
     "data": {
      "image/png": "[encoded data removed]",
      "text/plain": [
       "<Figure size 288x288 with 1 Axes>"
      ]
     },
     "metadata": {
      "needs_background": "light"
     },
     "output_type": "display_data"
    }
   ],
   "source": [
    "test_learner(Ridge(alpha=0.01), N=1, n=2)\n",
    "test_learner(Ridge(alpha=1E-7, kernel=\"rbf\"), n=2)\n",
    "test_shrinkage(Ridge, max_alpha=1000)"
   ]
  },
  {
   "cell_type": "markdown",
   "metadata": {},
   "source": [
    "# Lasso"
   ]
  },
  {
   "cell_type": "markdown",
   "metadata": {},
   "source": [
    "## 套索回归采用坐标下降（coordinate descent）方法\n",
    "$$\n",
    "L = \\sum_i (y_i - \\sum_j X_{ij} w_j)^2 + \\lambda \\sum_j |w_j|\n",
    "$$\n",
    "其中$\\lambda = 2\\alpha m$。\n",
    "loss函数中与$w_k$有关的项为\n",
    "$$\n",
    "L = \\sum_i (y_i - \\sum_j X_{ij} w_j)^2\n",
    "=\\sum_i (y_i - \\sum_j X_{ij\\neq k} w_j - X_{ik}w_k)^2 + \\lambda \\sum_j |w_j|\n",
    "$$\n",
    "\n",
    "$$L \\sim \\sum_i (X_{ik}w_k)^2 + 2 \\sum_i \\left(\\sum_j X_{ij\\neq k }w_{j}- y_i\\right) X_{ik} w_{k}  + \\lambda |w_k|$$\n",
    "\n",
    "$$L \\sim \\left(\\sum_i X^2_{ik}\\right) w_k^2 + 2 \\sum_i \\left(\\sum_j X_{ij}w_{j} - X_{ik} w_{k}  - y_i\\right) X_{ik} w_{k} + \\lambda |w_k|$$\n",
    "\n",
    "定义\n",
    "$$\n",
    "A_j = \\sum_i X^2_{ij}\n",
    "$$\n",
    "\n",
    "$$\n",
    "B_{jk} = \\sum_i X_{ij} X_{ik}\n",
    "$$\n",
    "\n",
    "$$\n",
    "C_k = \\sum_i y_i X_{ik}\n",
    "$$\n",
    "\n",
    "则\n",
    "$$L \\sim A_k w_k^2 + 2 \\left(\\sum_j B_{jk} w_j - A_k w_k  - C_k \\right) w_k + \\lambda |w_k|$$\n",
    "注意大圆括号的项实际并不包含$w_k$。\n",
    "\n",
    "设第$s$步，$w_j$数值为$w_j^{(s)}$，则\n",
    "\n",
    "$$ L \\sim A_k w_k^2 + 2 \\left(\\sum_j B_{j k} w_j^{(s)} - A_k w_k^{(s)}  - C_k \\right) w_k + \\lambda |w_k|$$\n",
    "\n",
    "$$ L \\sim A_k w_k^2 + 2 F_k w_k + \\lambda |w_k|$$\n",
    "\n",
    "优化$w_k$应该分情况讨论，设$w_k > 0$，则最优化位置为\n",
    "$$\n",
    "w_k = -(F_k + \\lambda/2)/A_k\n",
    "$$\n",
    "自恰条件为\n",
    "$$\n",
    "F_k > -\\lambda/2\n",
    "$$\n",
    "\n",
    "设$w_k < 0$，则最优化位置为\n",
    "$$\n",
    "w_k = -(F_k - \\lambda/2)/A_k\n",
    "$$\n",
    "自恰条件为\n",
    "$$\n",
    "F_k > \\lambda/2\n",
    "$$\n",
    "两者都不满足，那么$w_k = 0$\n",
    "\n"
   ]
  },
  {
   "cell_type": "code",
   "execution_count": 6,
   "metadata": {
    "jupyter": {
     "source_hidden": true
    }
   },
   "outputs": [
    {
     "name": "stdout",
     "output_type": "stream",
     "text": [
      "1\n"
     ]
    },
    {
     "data": {
      "image/png": "[encoded data removed]",
      "text/plain": [
       "<Figure size 288x288 with 1 Axes>"
      ]
     },
     "metadata": {
      "needs_background": "light"
     },
     "output_type": "display_data"
    },
    {
     "name": "stdout",
     "output_type": "stream",
     "text": [
      "1\n"
     ]
    },
    {
     "data": {
      "image/png": "[encoded data removed]",
      "text/plain": [
       "<Figure size 288x288 with 1 Axes>"
      ]
     },
     "metadata": {
      "needs_background": "light"
     },
     "output_type": "display_data"
    },
    {
     "name": "stdout",
     "output_type": "stream",
     "text": [
      "1\n"
     ]
    },
    {
     "data": {
      "image/png": "[encoded data removed]",
      "text/plain": [
       "<Figure size 288x288 with 1 Axes>"
      ]
     },
     "metadata": {
      "needs_background": "light"
     },
     "output_type": "display_data"
    }
   ],
   "source": [
    "test_learner(Lasso(), N=1)\n",
    "test_learner(Lasso())\n",
    "test_shrinkage(Lasso, max_alpha=0.1)"
   ]
  },
  {
   "cell_type": "markdown",
   "metadata": {},
   "source": [
    "# Check with sklearn"
   ]
  },
  {
   "cell_type": "code",
   "execution_count": 7,
   "metadata": {},
   "outputs": [
    {
     "ename": "NameError",
     "evalue": "name 'get_data' is not defined",
     "output_type": "error",
     "traceback": [
      "\u001b[1;31m---------------------------------------------------------------------------\u001b[0m",
      "\u001b[1;31mNameError\u001b[0m                                 Traceback (most recent call last)",
      "\u001b[1;32m<ipython-input-7-2dee1cd91f14>\u001b[0m in \u001b[0;36m<module>\u001b[1;34m\u001b[0m\n\u001b[0;32m      2\u001b[0m \u001b[1;32mimport\u001b[0m \u001b[0msklearn\u001b[0m\u001b[1;33m.\u001b[0m\u001b[0mlinear_model\u001b[0m\u001b[1;33m\u001b[0m\u001b[1;33m\u001b[0m\u001b[0m\n\u001b[0;32m      3\u001b[0m \u001b[1;33m\u001b[0m\u001b[0m\n\u001b[1;32m----> 4\u001b[1;33m \u001b[0mX\u001b[0m\u001b[1;33m,\u001b[0m \u001b[0my\u001b[0m\u001b[1;33m,\u001b[0m \u001b[0mw\u001b[0m \u001b[1;33m=\u001b[0m \u001b[0mget_data\u001b[0m\u001b[1;33m(\u001b[0m\u001b[1;36m3\u001b[0m\u001b[1;33m,\u001b[0m \u001b[1;36m10\u001b[0m\u001b[1;33m)\u001b[0m\u001b[1;33m\u001b[0m\u001b[1;33m\u001b[0m\u001b[0m\n\u001b[0m\u001b[0;32m      5\u001b[0m \u001b[0mlinear\u001b[0m\u001b[1;33m=\u001b[0m\u001b[0mLinearRegressor\u001b[0m\u001b[1;33m(\u001b[0m\u001b[1;33m)\u001b[0m\u001b[1;33m\u001b[0m\u001b[1;33m\u001b[0m\u001b[0m\n\u001b[0;32m      6\u001b[0m \u001b[0mlinear\u001b[0m\u001b[1;33m.\u001b[0m\u001b[0mfit\u001b[0m\u001b[1;33m(\u001b[0m\u001b[0mX\u001b[0m\u001b[1;33m,\u001b[0m\u001b[0my\u001b[0m\u001b[1;33m)\u001b[0m\u001b[1;33m\u001b[0m\u001b[1;33m\u001b[0m\u001b[0m\n",
      "\u001b[1;31mNameError\u001b[0m: name 'get_data' is not defined"
     ]
    }
   ],
   "source": [
    "import sklearn as sk\n",
    "import sklearn.linear_model\n",
    "\n",
    "X, y, w = get_data(3, 10)\n",
    "linear=LinearRegressor()\n",
    "linear.fit(X,y)\n",
    "\n",
    "ridge=Ridge(alpha=1)\n",
    "ridge.fit(X,y)\n",
    "\n",
    "lasso=Lasso(alpha=1E-2)\n",
    "lasso.fit(X,y)\n",
    "\n",
    "sklr=sk.linear_model.LinearRegression()\n",
    "sklr.fit(X, y)\n",
    "\n",
    "skridge=sk.linear_model.Ridge(alpha=1)\n",
    "skridge.fit(X, y)\n",
    "\n",
    "sklasso=sk.linear_model.Lasso(alpha=1E-2)\n",
    "sklasso.fit(X, y)\n",
    "\n",
    "\n",
    "print(\"%30s %10s\"%(\"model\",\"package\"), end=\" \")\n",
    "print(\"%35s %20s\"%(\"[coef ...]\",\"bias\"))\n",
    "\n",
    "print(\"%30s %10s\"%(\"LinearRegressor\",\"ksllearn\"), end=\" \")\n",
    "print(\"%35s %20s\"%(linear.coef_, linear.intercept_))\n",
    "\n",
    "print(\"%30s %10s\"%(\"Ridge\",\"ksllearn\"), end=\" \")\n",
    "print(\"%35s %20s\"%(ridge.coef_, ridge.intercept_))\n",
    "\n",
    "print(\"%30s %10s\"%(\"Lasso\",\"ksllearn\"), end=\" \")\n",
    "print(\"%35s %20s\"%(lasso.coef_, lasso.intercept_))\n",
    "\n",
    "print(\"%30s %10s\"%(\"LinearRegression\", \"sklearn\"), end=\" \")\n",
    "print(\"%35s %20s\"%(sklr.coef_, sklr.intercept_))\n",
    "\n",
    "print(\"%30s %10s\"%(\"Ridge\",\"sklearn\"), end=\" \")\n",
    "print(\"%35s %20s\"%(skridge.coef_, skridge.intercept_))\n",
    "\n",
    "print(\"%30s %10s\"%(\"Lasso\",\"sklearn\"), end=\" \")\n",
    "print(\"%35s %20s\"%(sklasso.coef_, sklasso.intercept_))"
   ]
  },
  {
   "cell_type": "markdown",
   "metadata": {},
   "source": [
    "# Benchmark"
   ]
  },
  {
   "cell_type": "code",
   "execution_count": null,
   "metadata": {
    "jupyter": {
     "source_hidden": true
    }
   },
   "outputs": [],
   "source": [
    "import numpy as np\n",
    "        \n",
    "class LinearRegression1:\n",
    "    \n",
    "    def __init__(self):\n",
    "        pass\n",
    "    \n",
    "    def fit(self,X,y):\n",
    "        fitSVD1(X,y)\n",
    "    \n",
    "    def fitInv1(self, X, y):\n",
    "        '''\n",
    "        W=(X^T X)^-1 X^T y\n",
    "        calculate from left to right\n",
    "        '''\n",
    "        X=np.c_[X,np.ones(shape=(X.shape[0],1),dtype=X.dtype)]\n",
    "        W=np.linalg.inv(X.T.dot(X)).dot(X.T).dot(y)\n",
    "        self.coef_=W\n",
    "\n",
    "    def fitInv2(self, X, y):        \n",
    "        '''\n",
    "        W=(X^T X)^-1 X^T y\n",
    "        calculate from right to left\n",
    "        '''\n",
    "        X=np.c_[X,np.ones(shape=(X.shape[0],1),dtype=X.dtype)]\n",
    "        W=np.linalg.inv(X.T.dot(X)).dot(X.T.dot(y))\n",
    "        self.coef_=W\n",
    "\n",
    "    def fitInv3(self, X, y):        \n",
    "        '''\n",
    "        W=(X^T X)^-1 X^T y\n",
    "        calculate from right to left\n",
    "        '''\n",
    "        X=np.c_[X,np.ones(shape=(X.shape[0],1),dtype=X.dtype)]\n",
    "        W=np.linalg.solve(X.T.dot(X), X.T.dot(y))\n",
    "        self.coef_=W\n",
    "        \n",
    "    def fitSVD1(self, X, y):\n",
    "        X=np.c_[X,np.ones(shape=(X.shape[0],1),dtype=X.dtype)]\n",
    "        U,D,VT=np.linalg.svd(X, full_matrices=False)\n",
    "        W=VT.T.dot((1/D*U.T.dot(y)))\n",
    "        self.coef_=W\n",
    "\n",
    "def benchmark():\n",
    "    N=1000\n",
    "    M=10\n",
    "    np.random.seed(0)\n",
    "    X=np.random.rand(N,M)\n",
    "    w=np.arange(M)\n",
    "    w=np.power(w,1)\n",
    "    y=np.sum(w.reshape(1,M)*X, axis=1) + np.random.randn(N)\n",
    "\n",
    "    lr = LinearRegression1()\n",
    "    print(\"LinearRegression by inverse X^T.X\")\n",
    "    %timeit lr.fitInv1(X,y)\n",
    "    %timeit lr.fitInv2(X,y)\n",
    "    %timeit lr.fitInv3(X,y)\n",
    "    print(\"LinearRegression by SVD\")\n",
    "    %timeit lr.fitSVD1(X,y)\n",
    "    %timeit lr.fitSVD1(X,y)\n",
    "    %timeit lr.fitSVD1(X,y)\n",
    "    \n",
    "    \n",
    "    linear = LinearRegressor()\n",
    "    print(\"LinearRegressor by SVD\")\n",
    "    %timeit linear.fit(X,y)\n",
    "    \n",
    "benchmark()"
   ]
  }
 ],
 "metadata": {
  "hide_input": false,
  "kernelspec": {
   "display_name": "Python 3",
   "language": "python",
   "name": "python3"
  },
  "language_info": {
   "codemirror_mode": {
    "name": "ipython",
    "version": 3
   },
   "file_extension": ".py",
   "mimetype": "text/x-python",
   "name": "python",
   "nbconvert_exporter": "python",
   "pygments_lexer": "ipython3",
   "version": "3.8.5"
  },
  "toc": {
   "base_numbering": 1,
   "nav_menu": {},
   "number_sections": true,
   "sideBar": true,
   "skip_h1_title": false,
   "title_cell": "Table of Contents",
   "title_sidebar": "Contents",
   "toc_cell": true,
   "toc_position": {},
   "toc_section_display": true,
   "toc_window_display": false
  },
  "varInspector": {
   "cols": {
    "lenName": "24",
    "lenType": "16",
    "lenVar": 40
   },
   "kernels_config": {
    "python": {
     "delete_cmd_postfix": "",
     "delete_cmd_prefix": "del ",
     "library": "var_list.py",
     "varRefreshCmd": "print(var_dic_list())"
    },
    "r": {
     "delete_cmd_postfix": ") ",
     "delete_cmd_prefix": "rm(",
     "library": "var_list.r",
     "varRefreshCmd": "cat(var_dic_list()) "
    }
   },
   "types_to_exclude": [
    "module",
    "function",
    "builtin_function_or_method",
    "instance",
    "_Feature"
   ],
   "window_display": false
  }
 },
 "nbformat": 4,
 "nbformat_minor": 4
}
